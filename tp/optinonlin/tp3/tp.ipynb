{
 "cells": [
  {
   "cell_type": "markdown",
   "metadata": {},
   "source": [
    "ANALYSE NUMÉRIQUE 1ère année de l’ISIMA, semestre 2\n",
    "\n",
    "TP Analyse spectrale"
   ]
  },
  {
   "cell_type": "markdown",
   "metadata": {},
   "source": [
    "1 Puissance itérée et méthode de déflation\n"
   ]
  },
  {
   "cell_type": "code",
   "execution_count": 8,
   "metadata": {
    "metadata": {}
   },
   "outputs": [],
   "source": [
    "import numpy as np\n",
    "from math import sqrt\n",
    "import matplotlib as plt"
   ]
  },
  {
   "cell_type": "markdown",
   "metadata": {},
   "source": [
    "Q1. Implémenter en Python la méthode de la puissance itérée afin de déterminer la plus grande valeur propre en module et un vecteur propre associé.\n",
    "Écrire sous forme une fonction Python qui prend comme paramètres la matrice A, le vecteur initial x0 et la précision eps. Cette fonction retournera la\n",
    "valeur propre de plus grand module de A, le vecteur propre correspondant\n",
    "et le nombre d’itérations effectuées. Vérifier que votre programme fonctionne sur quelques matrices. Pour faciliter les opérations matricielles, on\n",
    "initialise la matrice A et le vecteur x0 en utilisant le type matrix de NumPy.\n",
    "Par exemple"
   ]
  },
  {
   "cell_type": "code",
   "execution_count": 3,
   "metadata": {
    "metadata": {}
   },
   "outputs": [
    {
     "name": "stdout",
     "output_type": "stream",
     "text": [
      "(matrix([[5.]]), matrix([[8.94427191e-01],\n",
      "        [4.47213595e-01],\n",
      "        [4.91716548e-09]]))\n"
     ]
    }
   ],
   "source": [
    "\n",
    "A=np.matrix([[3,4,0],[1,3,0],[0,0,2]])\n",
    "# eps=1*pow(10,-15)\n",
    "eps=1E-15\n",
    "x0=np.matrix([2,1,1]).T\n",
    "\n",
    "\n",
    "# def norme(Vect):\n",
    "#    S=0\n",
    "#    for i in range(len(Vect)):\n",
    "#       S+=pow(Vect[i],2)\n",
    "#    return sqrt(S)\n",
    "\n",
    "def puissance_iteree(A,x0,eps):\n",
    "   x=x0\n",
    "   lbda=1\n",
    "   lbd=0\n",
    "   while(abs(lbd-lbda)>eps) :\n",
    "      lbda=lbd\n",
    "      Ax=np.dot(A,x)\n",
    "      x=Ax/np.linalg.norm(Ax)\n",
    "      lbd=(x.T*Ax)/(x.T*x)\n",
    "   return lbd,x\n",
    "\n",
    "\n",
    "print(puissance_iteree(A,x0,eps))"
   ]
  },
  {
   "cell_type": "markdown",
   "metadata": {},
   "source": [
    "Q2. Modifier la fonction précédente pour inclure la trace de la vitesse de\n",
    "convergence de la méthode. Pour cela, on trace la fonction log10 de la diffé\u0002rence absolue entre les deux valeurs λ consécutives en fonction du nombre\n",
    "d’itérations effectuées."
   ]
  },
  {
   "cell_type": "code",
   "execution_count": 7,
   "metadata": {
    "metadata": {}
   },
   "outputs": [
    {
     "name": "stdout",
     "output_type": "stream",
     "text": [
      "(matrix([[5.]]), matrix([[8.94427191e-01],\n",
      "        [4.47213595e-01],\n",
      "        [4.91716548e-09]]), 20)\n"
     ]
    }
   ],
   "source": [
    "def puissance_iteree(A,x0,eps):\n",
    "   x=x0\n",
    "   lbda=1\n",
    "   lbd=0\n",
    "\n",
    "   it=0\n",
    "   while(abs(lbd-lbda)>eps) :\n",
    "      lbda=lbd\n",
    "      Ax=np.dot(A,x)\n",
    "      x=Ax/np.linalg.norm(Ax)\n",
    "      lbd=(x.T*Ax)/(x.T*x)\n",
    "      it+=1\n",
    "    \n",
    "   return lbd,x,it\n",
    "print(puissance_iteree(A,x0,eps))"
   ]
  },
  {
   "cell_type": "code",
   "execution_count": 10,
   "metadata": {
    "metadata": {}
   },
   "outputs": [
    {
     "ename": "AttributeError",
     "evalue": "module 'matplotlib' has no attribute 'title'",
     "output_type": "error",
     "traceback": [
      "\u001b[0;31m---------------------------------------------------------------------------\u001b[0m",
      "\u001b[0;31mAttributeError\u001b[0m                            Traceback (most recent call last)",
      "Cell \u001b[0;32mIn[10], line 22\u001b[0m\n\u001b[1;32m     20\u001b[0m    plt\u001b[38;5;241m.\u001b[39mshow() \n\u001b[1;32m     21\u001b[0m    \u001b[38;5;28;01mreturn\u001b[39;00m lbd,x,it\n\u001b[0;32m---> 22\u001b[0m \u001b[38;5;28mprint\u001b[39m(\u001b[43mpuissance_iteree\u001b[49m\u001b[43m(\u001b[49m\u001b[43mA\u001b[49m\u001b[43m,\u001b[49m\u001b[43mx0\u001b[49m\u001b[43m,\u001b[49m\u001b[43meps\u001b[49m\u001b[43m)\u001b[49m)\n",
      "Cell \u001b[0;32mIn[10], line 16\u001b[0m, in \u001b[0;36mpuissance_iteree\u001b[0;34m(A, x0, eps)\u001b[0m\n\u001b[1;32m     14\u001b[0m    L_it\u001b[38;5;241m.\u001b[39mappend(it)\n\u001b[1;32m     15\u001b[0m    conv\u001b[38;5;241m.\u001b[39mappend(\u001b[38;5;28mabs\u001b[39m(lbd\u001b[38;5;241m-\u001b[39mlbda))\n\u001b[0;32m---> 16\u001b[0m \u001b[43mplt\u001b[49m\u001b[38;5;241;43m.\u001b[39;49m\u001b[43mtitle\u001b[49m(\u001b[38;5;124m\"\u001b[39m\u001b[38;5;124mConvergence de la méthode de la puissance iteree\u001b[39m\u001b[38;5;124m\"\u001b[39m)\n\u001b[1;32m     17\u001b[0m plt\u001b[38;5;241m.\u001b[39mplot(conv,L_it)\n\u001b[1;32m     18\u001b[0m plt\u001b[38;5;241m.\u001b[39mxlabel(\u001b[38;5;124m\"\u001b[39m\u001b[38;5;124mnombre d\u001b[39m\u001b[38;5;124m'\u001b[39m\u001b[38;5;124mitération\u001b[39m\u001b[38;5;124m\"\u001b[39m)\n",
      "File \u001b[0;32m~/.local/lib/python3.10/site-packages/matplotlib/_api/__init__.py:217\u001b[0m, in \u001b[0;36mcaching_module_getattr.<locals>.__getattr__\u001b[0;34m(name)\u001b[0m\n\u001b[1;32m    215\u001b[0m \u001b[38;5;28;01mif\u001b[39;00m name \u001b[38;5;129;01min\u001b[39;00m props:\n\u001b[1;32m    216\u001b[0m     \u001b[38;5;28;01mreturn\u001b[39;00m props[name]\u001b[38;5;241m.\u001b[39m\u001b[38;5;21m__get__\u001b[39m(instance)\n\u001b[0;32m--> 217\u001b[0m \u001b[38;5;28;01mraise\u001b[39;00m \u001b[38;5;167;01mAttributeError\u001b[39;00m(\n\u001b[1;32m    218\u001b[0m     \u001b[38;5;124mf\u001b[39m\u001b[38;5;124m\"\u001b[39m\u001b[38;5;124mmodule \u001b[39m\u001b[38;5;132;01m{\u001b[39;00m\u001b[38;5;28mcls\u001b[39m\u001b[38;5;241m.\u001b[39m\u001b[38;5;18m__module__\u001b[39m\u001b[38;5;132;01m!r}\u001b[39;00m\u001b[38;5;124m has no attribute \u001b[39m\u001b[38;5;132;01m{\u001b[39;00mname\u001b[38;5;132;01m!r}\u001b[39;00m\u001b[38;5;124m\"\u001b[39m)\n",
      "\u001b[0;31mAttributeError\u001b[0m: module 'matplotlib' has no attribute 'title'"
     ]
    }
   ],
   "source": [
    "def puissance_iteree(A,x0,eps):\n",
    "   x=x0\n",
    "   lbda=1\n",
    "   lbd=0\n",
    "   conv=[abs(lbd-lbda)]\n",
    "   it=0\n",
    "   L_it=[0]\n",
    "   while(abs(lbd-lbda)>eps) :\n",
    "      lbda=lbd\n",
    "      Ax=np.dot(A,x)\n",
    "      x=Ax/np.linalg.norm(Ax)\n",
    "      lbd=(x.T*Ax)/(x.T*x)\n",
    "      it+=1\n",
    "      L_it.append(it)\n",
    "      conv.append(abs(lbd-lbda))\n",
    "   plt.title(\"Convergence de la méthode de la puissance iteree\")\n",
    "   plt.plot(conv,L_it)\n",
    "   plt.xlabel(\"nombre d'itération\")\n",
    "   plt.ylabel(\"convergence\")\n",
    "   plt.show() \n",
    "   return lbd,x,it\n",
    "print(puissance_iteree(A,x0,eps))\n"
   ]
  },
  {
   "cell_type": "markdown",
   "metadata": {},
   "source": [
    "Q3. Implémenter la méthode de déflation vue en cours pour des matrices\n",
    "symétriques, afin de trouver toutes les valeurs propres d’une matrice. Vérifier que votre programme fonctionne sur quelques matrices symétriques"
   ]
  },
  {
   "cell_type": "code",
   "execution_count": 11,
   "metadata": {
    "metadata": {}
   },
   "outputs": [
    {
     "ename": "SyntaxError",
     "evalue": "invalid syntax (2835588004.py, line 1)",
     "output_type": "error",
     "traceback": [
      "\u001b[0;36m  Cell \u001b[0;32mIn[11], line 1\u001b[0;36m\u001b[0m\n\u001b[0;31m    2 PageRank de Google\u001b[0m\n\u001b[0m      ^\u001b[0m\n\u001b[0;31mSyntaxError\u001b[0m\u001b[0;31m:\u001b[0m invalid syntax\n"
     ]
    }
   ],
   "source": []
  },
  {
   "cell_type": "markdown",
   "metadata": {},
   "source": [
    "2 PageRank de Google"
   ]
  },
  {
   "cell_type": "markdown",
   "metadata": {},
   "source": []
  },
  {
   "cell_type": "markdown",
   "metadata": {},
   "source": []
  }
 ],
 "metadata": {
  "kernelspec": {
   "display_name": "Python 3",
   "language": "python",
   "name": "python3"
  },
  "language_info": {
   "codemirror_mode": {
    "name": "ipython",
    "version": 3
   },
   "file_extension": ".py",
   "mimetype": "text/x-python",
   "name": "python",
   "nbconvert_exporter": "python",
   "pygments_lexer": "ipython3",
   "version": "3.10.12"
  }
 },
 "nbformat": 4,
 "nbformat_minor": 2
}
